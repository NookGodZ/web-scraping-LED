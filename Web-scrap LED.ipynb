{
 "cells": [
  {
   "cell_type": "code",
   "execution_count": null,
   "id": "64ca04e2",
   "metadata": {},
   "outputs": [],
   "source": [
    "from selenium import webdriver\n",
    "from selenium.webdriver.common.by import By\n",
    "from selenium.webdriver.common.keys import Keys\n",
    "import pandas as pd\n",
    "import time\n",
    "import bs4\n",
    "def add_to_list_soup(raw_data):\n",
    "    list_raw_data = []\n",
    "    for i in raw_data:\n",
    "        list_raw_data.append(i.text)\n",
    "    return list_raw_data\n",
    "date = '01/12/2565'\n",
    "page_num= 1\n",
    "website = 'http://asset.led.go.th/newbid11/default.asp?search_asset_type_id=003&search_tumbol=&search_ampur=&search_province=&search_sub_province=00&search_price_begin=&search_price_end=&search_bid_date=01/12/2565&page=1'\n",
    "driver = webdriver.Chrome()\n",
    "driver.get(website)\n",
    "data = driver.page_source\n",
    "soup = bs4.BeautifulSoup(data)\n",
    "data_raw =  soup.find_all('td',{'height':\"35\"})\n",
    "data_clean = add_to_list_soup(data_raw)\n",
    "page =  soup.find_all('div',{'align':\"left\"})\n",
    "page_clean = add_to_list_soup(page)\n",
    "page_num = page_clean[0].replace('หน้าที่ 1/','')\n",
    "df = pd.DataFrame(columns=['ลำดับที่การขาย','หมายเลขคดี','ประเภททรัพย์','ขนาด(ไร่)','ขนาด(งาน)','ขนาด(ตารางวา)','ราคาประเมิณ','ตำบล','อำเภอ','จังหวัด'])\n",
    "for k in range(1,int(page_num)+1):\n",
    "    website = 'http://asset.led.go.th/newbid11/default.asp?search_asset_type_id=003&search_tumbol=&search_ampur=&search_province=&search_sub_province=00&search_price_begin=&search_price_end=&search_bid_date='+str(date)+'&page='+str(k)\n",
    "    driver.get(website)\n",
    "    data = driver.page_source\n",
    "    soup = bs4.BeautifulSoup(data)\n",
    "    data_raw =  soup.find_all('td',{'height':\"35\"})\n",
    "    data_clean = add_to_list_soup(data_raw)\n",
    "\n",
    "    for i in range(len(data_clean)):\n",
    "        data_clean[i] = data_clean[i].replace('\\n','').replace('\\t','').replace(' ','').replace('\\xa0','').replace(',','').replace('.00','')\n",
    "\n",
    "    for j in range(50):\n",
    "        empty = []\n",
    "        if len(data_clean) <= 0 :\n",
    "            break\n",
    "        else :\n",
    "            for i in range(0,10):\n",
    "                empty.append(data_clean[i])\n",
    "            df.loc[len(df)] = empty\n",
    "            del data_clean[0:10]\n",
    "file_name ='ข้อมูลกรมบังคับคดีขายบ้าน.xlsx'\n",
    "df.to_excel(file_name)  "
   ]
  },
  {
   "cell_type": "code",
   "execution_count": null,
   "id": "64fd93d0",
   "metadata": {},
   "outputs": [],
   "source": [
    "file_name ='ข้อมูลกรมบังคับคดีวันที่อันใหม่.xlsx'\n",
    "df.to_excel(file_name)  "
   ]
  },
  {
   "cell_type": "code",
   "execution_count": null,
   "id": "82ce8890",
   "metadata": {},
   "outputs": [],
   "source": []
  }
 ],
 "metadata": {
  "kernelspec": {
   "display_name": "Python 3 (ipykernel)",
   "language": "python",
   "name": "python3"
  },
  "language_info": {
   "codemirror_mode": {
    "name": "ipython",
    "version": 3
   },
   "file_extension": ".py",
   "mimetype": "text/x-python",
   "name": "python",
   "nbconvert_exporter": "python",
   "pygments_lexer": "ipython3",
   "version": "3.9.12"
  }
 },
 "nbformat": 4,
 "nbformat_minor": 5
}
